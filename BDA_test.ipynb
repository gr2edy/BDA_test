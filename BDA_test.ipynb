{
  "nbformat": 4,
  "nbformat_minor": 0,
  "metadata": {
    "colab": {
      "name": "BDA_test.ipynb",
      "private_outputs": true,
      "provenance": [],
      "collapsed_sections": []
    },
    "kernelspec": {
      "name": "python3",
      "display_name": "Python 3"
    },
    "language_info": {
      "name": "python"
    }
  },
  "cells": [
    {
      "cell_type": "markdown",
      "source": [
        "# 빅데이터 분석기사 실기 준비\n",
        "## 프리렉 출판사 빅데이터 분석기사 실기 책 자료 참고\n",
        "\n",
        "## 데이터 탐색"
      ],
      "metadata": {
        "id": "GLd2KiAeUNxo"
      }
    },
    {
      "cell_type": "code",
      "source": [
        "import pandas as pd\n",
        "df = pd.read_csv('/content/drive/MyDrive/bigData-main/mtcars.csv')\n",
        "print(df.head())"
      ],
      "metadata": {
        "id": "vg2HIwefTLDL"
      },
      "execution_count": null,
      "outputs": []
    },
    {
      "cell_type": "markdown",
      "source": [
        "mpg : 연비\n",
        "Unnamed : 0 : 차 모델 명\n",
        "cyl : 엔진 기통\n",
        "disp : 배기량\n",
        "hp : 마력\n",
        "drat : 뒤 차축비\n",
        "wt : 무게\n",
        "qsec : 1/4 mile 도달 시간\n",
        "vs : V형 엔진/ 직렬엔진\n",
        "am : 변속기 \n",
        "gear : 전진기어 개수\n",
        "carb : 기화기 개수"
      ],
      "metadata": {
        "id": "m17fvLQbX58U"
      }
    },
    {
      "cell_type": "code",
      "execution_count": null,
      "metadata": {
        "id": "mlXv0XCmP49l"
      },
      "outputs": [],
      "source": [
        "print(df.shape)"
      ]
    },
    {
      "cell_type": "code",
      "source": [
        "print(type(df))"
      ],
      "metadata": {
        "id": "oU1t8uQcUDM9"
      },
      "execution_count": null,
      "outputs": []
    },
    {
      "cell_type": "code",
      "source": [
        "print(df.columns)"
      ],
      "metadata": {
        "id": "nPpg0_J9UE2x"
      },
      "execution_count": null,
      "outputs": []
    },
    {
      "cell_type": "code",
      "source": [
        "print(df.describe())"
      ],
      "metadata": {
        "id": "OIjq430nUIX8"
      },
      "execution_count": null,
      "outputs": []
    },
    {
      "cell_type": "markdown",
      "source": [
        "cyl - 실린더가 50기통임은 이상치로 여겨짐"
      ],
      "metadata": {
        "id": "XMncxojfULfO"
      }
    },
    {
      "cell_type": "code",
      "source": [
        "print(df['am'].unique())\n",
        "print(df['gear'].unique())\n",
        "print(df['vs'].unique())"
      ],
      "metadata": {
        "id": "YRjlrXs4UmG0"
      },
      "execution_count": null,
      "outputs": []
    },
    {
      "cell_type": "code",
      "source": [
        "print(df.info())"
      ],
      "metadata": {
        "id": "aGPy-NlYU1oz"
      },
      "execution_count": null,
      "outputs": []
    },
    {
      "cell_type": "code",
      "source": [
        "print(df.corr())"
      ],
      "metadata": {
        "id": "zf_enB4KU8dx"
      },
      "execution_count": null,
      "outputs": []
    },
    {
      "cell_type": "markdown",
      "source": [
        "종속 변수와 독립 변수 구분 \\\n",
        "mpg를 종속변수로, 외 열은 독립 변수"
      ],
      "metadata": {
        "id": "zre_zEWyXwyM"
      }
    },
    {
      "cell_type": "code",
      "source": [
        "x = df.drop(columns = 'mpg')\n",
        "y = df['mpg']"
      ],
      "metadata": {
        "id": "TKIAnoUaYc8G"
      },
      "execution_count": null,
      "outputs": []
    },
    {
      "cell_type": "code",
      "source": [
        "print(x.head())\n",
        "print(x.columns)"
      ],
      "metadata": {
        "id": "P7FdabHqYhxx"
      },
      "execution_count": null,
      "outputs": []
    },
    {
      "cell_type": "code",
      "source": [
        "print(y.head())"
      ],
      "metadata": {
        "id": "1Wt7v1ZZYjvZ"
      },
      "execution_count": null,
      "outputs": []
    },
    {
      "cell_type": "markdown",
      "source": [
        "## 데이터 전처리"
      ],
      "metadata": {
        "id": "D6pyyNGCYqPW"
      }
    },
    {
      "cell_type": "code",
      "source": [
        "# 불필요한 컬럼 처리\n",
        "print(x.head())\n",
        "x = x.iloc[:,1:]"
      ],
      "metadata": {
        "id": "iabhvZ5zYurC"
      },
      "execution_count": null,
      "outputs": []
    },
    {
      "cell_type": "code",
      "source": [
        "print(x.head())"
      ],
      "metadata": {
        "id": "bcNZDqSeY44a"
      },
      "execution_count": null,
      "outputs": []
    },
    {
      "cell_type": "code",
      "source": [
        "# 결측치 처리\n",
        "x.isnull().sum()"
      ],
      "metadata": {
        "id": "aqF0i_BuY_ow"
      },
      "execution_count": null,
      "outputs": []
    },
    {
      "cell_type": "code",
      "source": [
        "# cyl, qsec 에만 존재 확인, 평균값으로 대치\n",
        "x_cyl_mean = x['cyl'].mean()\n",
        "\n",
        "print(x_cyl_mean)"
      ],
      "metadata": {
        "id": "Tb-uMlnmZEor"
      },
      "execution_count": null,
      "outputs": []
    },
    {
      "cell_type": "code",
      "source": [
        "x['cyl'] = x['cyl'].fillna(x_cyl_mean)"
      ],
      "metadata": {
        "id": "Kf1TEfH7ZbKY"
      },
      "execution_count": null,
      "outputs": []
    },
    {
      "cell_type": "code",
      "source": [
        "# qsec는 중위값으로 대치\n",
        "x_qsec_median = x['qsec'].median()\n",
        "print(x_qsec_median)"
      ],
      "metadata": {
        "id": "NBTrBDVvZhfg"
      },
      "execution_count": null,
      "outputs": []
    },
    {
      "cell_type": "code",
      "source": [
        "x['qsec'] = x['qsec'].fillna(x_qsec_median)"
      ],
      "metadata": {
        "id": "AlztvYEKZj1A"
      },
      "execution_count": null,
      "outputs": []
    },
    {
      "cell_type": "code",
      "source": [
        "x.isnull().sum()"
      ],
      "metadata": {
        "id": "Hfi81AFVZz_K"
      },
      "execution_count": null,
      "outputs": []
    },
    {
      "cell_type": "code",
      "source": [
        "# gear에 잘못된 값 바꾸기\n",
        "print(x['gear'].unique())"
      ],
      "metadata": {
        "id": "FkKJ6I-aZ39e"
      },
      "execution_count": null,
      "outputs": []
    },
    {
      "cell_type": "code",
      "source": [
        "x['gear'] = x['gear'].replace('*3', '3').replace('*5','5')"
      ],
      "metadata": {
        "id": "tPKgyoUrZ9C0"
      },
      "execution_count": null,
      "outputs": []
    },
    {
      "cell_type": "code",
      "source": [
        "print(x['gear'].unique())"
      ],
      "metadata": {
        "id": "YPWSyTKdaKqI"
      },
      "execution_count": null,
      "outputs": []
    },
    {
      "cell_type": "code",
      "source": [
        "# 이상값 처리, IQR 처리\n",
        "\n",
        "# 기초통계량 확인\n",
        "x_describe = x.describe()\n",
        "print(x_describe)"
      ],
      "metadata": {
        "id": "sHfjxZfMaSuE"
      },
      "execution_count": null,
      "outputs": []
    },
    {
      "cell_type": "code",
      "source": [
        "print(x_describe.loc['75%'], x_describe.loc['25%'])"
      ],
      "metadata": {
        "id": "_buvvM7BbIzp"
      },
      "execution_count": null,
      "outputs": []
    },
    {
      "cell_type": "code",
      "source": [
        "x_iqr = x_describe.loc['75%'] - x_describe.loc['25%']\n",
        "print(x_iqr)"
      ],
      "metadata": {
        "id": "SkekG9zObZ18"
      },
      "execution_count": null,
      "outputs": []
    },
    {
      "cell_type": "code",
      "source": [
        "print(x_describe.loc['75%'] + (1.5 * x_iqr))"
      ],
      "metadata": {
        "id": "JZXwg1qdbjeu"
      },
      "execution_count": null,
      "outputs": []
    },
    {
      "cell_type": "code",
      "source": [
        "print(x_describe.loc['max'])"
      ],
      "metadata": {
        "id": "pZZPNVhJbqxI"
      },
      "execution_count": null,
      "outputs": []
    },
    {
      "cell_type": "code",
      "source": [
        "#cyl, hp, wt, qsec, carb 는 이상치 존재\n",
        "# 이외에 cyl은 14 이상이 최대이기에 초과 값은 이상치 처리\n",
        "\n",
        "# cyl\n",
        "print(x.loc[x['cyl'] > 14])\n",
        "x.loc[14,'cyl'] = 14"
      ],
      "metadata": {
        "id": "aYKCgNUObvg3"
      },
      "execution_count": null,
      "outputs": []
    },
    {
      "cell_type": "code",
      "source": [
        "# hp\n",
        "print(x.loc[x['hp'] > 305.25])\n",
        "x.loc[30,'hp'] = 305.25"
      ],
      "metadata": {
        "id": "EfotsG-Ub_lF"
      },
      "execution_count": null,
      "outputs": []
    },
    {
      "cell_type": "code",
      "source": [
        "# 최소 경계\n",
        "print(x_describe.loc['25%'] - (1.5 * x_iqr))"
      ],
      "metadata": {
        "id": "2X3RIb0scL91"
      },
      "execution_count": null,
      "outputs": []
    },
    {
      "cell_type": "code",
      "source": [
        "x_describe.loc['min']"
      ],
      "metadata": {
        "id": "ITz6uYj6cirS"
      },
      "execution_count": null,
      "outputs": []
    },
    {
      "cell_type": "code",
      "source": [
        "#표준편차 활용 이상치 처리\n",
        "#평균 +- 1.5표준편차 범위 밖은 이상치\n",
        "#함수로 이상치 인덱스 출력\n",
        "def outlier(data, column):\n",
        "  mean = data[column].mean()\n",
        "  std = data[column].std()\n",
        "  lowest = mean - (1.5 * std)\n",
        "  highest = mean + (1.5 * std)\n",
        "  print('lowest : ', lowest, '\\n', 'highest : ', highest)\n",
        "  outlier_index = data[column][(df[column] < lowest) | (data[column] > highest)].index\n",
        "  return outlier_index"
      ],
      "metadata": {
        "id": "Bxa5NNL9cwjL"
      },
      "execution_count": null,
      "outputs": []
    },
    {
      "cell_type": "code",
      "source": [
        "outlier(x, 'qsec')"
      ],
      "metadata": {
        "id": "2_XrdEq9dY0c"
      },
      "execution_count": null,
      "outputs": []
    },
    {
      "cell_type": "code",
      "source": [
        "print(x.loc[24,'qsec'])"
      ],
      "metadata": {
        "id": "jDDXawhUec_w"
      },
      "execution_count": null,
      "outputs": []
    },
    {
      "cell_type": "code",
      "source": [
        "x.loc[24,'qsec'] = 42.245\n",
        "print(x.loc[24,'qsec'])"
      ],
      "metadata": {
        "id": "tQ6JBGoTe1ru"
      },
      "execution_count": null,
      "outputs": []
    },
    {
      "cell_type": "code",
      "source": [
        "print(outlier(x, 'carb'))"
      ],
      "metadata": {
        "id": "SxUigwSpfB-1"
      },
      "execution_count": null,
      "outputs": []
    },
    {
      "cell_type": "code",
      "source": [
        "print(x.loc[[29,30], 'carb'])"
      ],
      "metadata": {
        "id": "NFDMc7bkfRT0"
      },
      "execution_count": null,
      "outputs": []
    },
    {
      "cell_type": "code",
      "source": [
        "x.loc[[29,30], 'carb'] = 5.235"
      ],
      "metadata": {
        "id": "Qtsi-05lfYvW"
      },
      "execution_count": null,
      "outputs": []
    },
    {
      "cell_type": "code",
      "source": [
        "print(x.loc[[29,30], 'carb'])"
      ],
      "metadata": {
        "id": "nASCzxhMfdEh"
      },
      "execution_count": null,
      "outputs": []
    },
    {
      "cell_type": "markdown",
      "source": [
        "## 데이터 스케일링\n",
        "\n",
        "독립변수 범위를 동일하게 만들어줌으로 머신러닝 결과 왜곡을 막고 특정 독립 변수를 무지하지 않기 위해"
      ],
      "metadata": {
        "id": "UagX63RJffXP"
      }
    },
    {
      "cell_type": "code",
      "source": [
        "from sklearn.preprocessing import StandardScaler"
      ],
      "metadata": {
        "id": "eFEPYmaffiTr"
      },
      "execution_count": null,
      "outputs": []
    },
    {
      "cell_type": "code",
      "source": [
        "temp = x[['qsec']]"
      ],
      "metadata": {
        "id": "ZM1m6Q13f_Kx"
      },
      "execution_count": null,
      "outputs": []
    },
    {
      "cell_type": "code",
      "source": [
        "scaler = StandardScaler()"
      ],
      "metadata": {
        "id": "dk6diaQtgF4g"
      },
      "execution_count": null,
      "outputs": []
    },
    {
      "cell_type": "code",
      "source": [
        "print(scaler.fit_transform(temp))"
      ],
      "metadata": {
        "id": "rts6tt5egG5q"
      },
      "execution_count": null,
      "outputs": []
    },
    {
      "cell_type": "code",
      "source": [
        "qsec_s_scaler = pd.DataFrame(scaler.fit_transform(temp))"
      ],
      "metadata": {
        "id": "_YGffWFsgPa6"
      },
      "execution_count": null,
      "outputs": []
    },
    {
      "cell_type": "code",
      "source": [
        "print(qsec_s_scaler.describe())"
      ],
      "metadata": {
        "id": "v3CwMdsugn_-"
      },
      "execution_count": null,
      "outputs": []
    },
    {
      "cell_type": "markdown",
      "source": [
        "평균이 0에 근사하고 표준편차는 1에 근사한 정규 분표 형태로 변환되었음"
      ],
      "metadata": {
        "id": "yX3wMYfGgpfi"
      }
    },
    {
      "cell_type": "code",
      "source": [
        "#최소최대 크기 변환\n",
        "from sklearn.preprocessing import MinMaxScaler"
      ],
      "metadata": {
        "id": "KWcWFj6UgyiE"
      },
      "execution_count": null,
      "outputs": []
    },
    {
      "cell_type": "code",
      "source": [
        "temp = x[['qsec']]"
      ],
      "metadata": {
        "id": "NdroYvNUg5ng"
      },
      "execution_count": null,
      "outputs": []
    },
    {
      "cell_type": "code",
      "source": [
        "scaler = MinMaxScaler()"
      ],
      "metadata": {
        "id": "kxt7Q-iGg7kt"
      },
      "execution_count": null,
      "outputs": []
    },
    {
      "cell_type": "code",
      "source": [
        "qsec_m_scaler = pd.DataFrame(scaler.fit_transform(temp))"
      ],
      "metadata": {
        "id": "-ZtMWIVZg-Nn"
      },
      "execution_count": null,
      "outputs": []
    },
    {
      "cell_type": "code",
      "source": [
        "print(qsec_m_scaler)"
      ],
      "metadata": {
        "id": "0LmhAMnohCrb"
      },
      "execution_count": null,
      "outputs": []
    },
    {
      "cell_type": "code",
      "source": [
        "# 로버스트 크기 변환\n",
        "from sklearn.preprocessing import RobustScaler\n",
        "\n",
        "temp = x[['qsec']]"
      ],
      "metadata": {
        "id": "_nzwKtaQhEII"
      },
      "execution_count": null,
      "outputs": []
    },
    {
      "cell_type": "code",
      "source": [
        "scaler = RobustScaler()\n",
        "\n",
        "qsec_r_scaler = pd.DataFrame(scaler.fit_transform(temp))\n",
        "\n",
        "print(qsec_r_scaler)"
      ],
      "metadata": {
        "id": "kO_8OcvIHADw"
      },
      "execution_count": null,
      "outputs": []
    },
    {
      "cell_type": "code",
      "source": [
        "print(qsec_r_scaler.describe())"
      ],
      "metadata": {
        "id": "TpH68xJ2HJu2"
      },
      "execution_count": null,
      "outputs": []
    },
    {
      "cell_type": "markdown",
      "source": [
        "### 데이터 타입 변경"
      ],
      "metadata": {
        "id": "zc6BRheeHOti"
      }
    },
    {
      "cell_type": "code",
      "source": [
        "print(x.info())"
      ],
      "metadata": {
        "id": "KWP-hdtyHVL6"
      },
      "execution_count": null,
      "outputs": []
    },
    {
      "cell_type": "code",
      "source": [
        "# gear는 수치형이 들어가는 연속형 변수이므로 형 변환\n",
        "x['gear'] = x['gear'].astype(int)"
      ],
      "metadata": {
        "id": "udXOwpHiHZUU"
      },
      "execution_count": null,
      "outputs": []
    },
    {
      "cell_type": "code",
      "source": [
        "x['gear'].dtype"
      ],
      "metadata": {
        "id": "Bu5bpDUdHemh"
      },
      "execution_count": null,
      "outputs": []
    },
    {
      "cell_type": "code",
      "source": [
        "# 범주형을 수치형으로 인코딩\n",
        "# 원핫인코딩 pd.get_dummies()로 수행\n",
        "print(pd.get_dummies(x['am']))\n"
      ],
      "metadata": {
        "id": "Zvs7KFo9Hrrd"
      },
      "execution_count": null,
      "outputs": []
    },
    {
      "cell_type": "code",
      "source": [
        "# 이는 여러 단점으로 불편하니 새로운 열이 늘어나지 않고 1개의 열로 판단 되게 수정\n",
        "# data 종류가 n개라면 n-1개 열만 새로 생성 , get_dummies(drop_first = True) 로\n",
        "print(pd.get_dummies(x['am'], drop_first = True))"
      ],
      "metadata": {
        "id": "aANRiKMCIL-6"
      },
      "execution_count": null,
      "outputs": []
    },
    {
      "cell_type": "code",
      "source": [
        "# get_dummies() 는 기본적으로 범주형 데이터를 골라 인코딩 처리\n",
        "# sklearn 에서 OneHotEncoder()도 비슷한 기능을 하지만 전체 변수에 인코딩하는 특징\n",
        "print(x.info())\n",
        "print(pd.get_dummies(x, drop_first=True))"
      ],
      "metadata": {
        "id": "9vDSFHVJIlbM"
      },
      "execution_count": null,
      "outputs": []
    },
    {
      "cell_type": "code",
      "source": [
        "# 라벨 인코딩 - 일련번호 부여 방식으로 점차 숫자 커짐 -> 이 때문에 트리 계열에서만 주로 사용\n",
        "\n",
        "print(x['am'].head())"
      ],
      "metadata": {
        "id": "KSPSxnJXJGqK"
      },
      "execution_count": null,
      "outputs": []
    },
    {
      "cell_type": "code",
      "source": [
        "from sklearn.preprocessing import LabelEncoder\n",
        "\n",
        "encoder = LabelEncoder()\n",
        "\n",
        "print(encoder.fit_transform(x['am']))\n",
        "#am 데이터가 2개라 원핫과 비슷하게 변화"
      ],
      "metadata": {
        "id": "xv5OLjBAJoQ9"
      },
      "execution_count": null,
      "outputs": []
    },
    {
      "cell_type": "code",
      "source": [
        "# 3개 이상에서의 변화를 보기 위한 예시\n",
        "fruit = ['apple', 'banana', 'grape']\n",
        "fruit_new = encoder.fit_transform(fruit)\n",
        "print(fruit, fruit_new)"
      ],
      "metadata": {
        "id": "NUlDOiZkJzT_"
      },
      "execution_count": null,
      "outputs": []
    },
    {
      "cell_type": "code",
      "source": [
        "# 수동 인코딩 replace\n",
        "x['am_new'] = x['am'].replace('manual', 0).replace('auto', 1)\n",
        "print(x.head())"
      ],
      "metadata": {
        "id": "Vs7LlTn4KLyO"
      },
      "execution_count": null,
      "outputs": []
    },
    {
      "cell_type": "code",
      "source": [
        "x = x.drop(columns = 'am')\n",
        "print(x.head())"
      ],
      "metadata": {
        "id": "p5iLX_AIKiKS"
      },
      "execution_count": null,
      "outputs": []
    },
    {
      "cell_type": "code",
      "source": [
        "# 파생 변수 만들기\n",
        "# wt 를 등급 나누기, 평균인 3.3보다 낮으면 0 아니면 1\n",
        "print(x['wt'] < 3.3)\n",
        "condition = x['wt'] < 3.3"
      ],
      "metadata": {
        "id": "hfp3TmH7Kn6o"
      },
      "execution_count": null,
      "outputs": []
    },
    {
      "cell_type": "code",
      "source": [
        "x.loc[condition, 'wt_class'] = 0\n",
        "x.loc[~condition, 'wt_class'] = 1\n"
      ],
      "metadata": {
        "id": "yOWYJaD2LRBN"
      },
      "execution_count": null,
      "outputs": []
    },
    {
      "cell_type": "code",
      "source": [
        "print(x[['wt','wt_class']])"
      ],
      "metadata": {
        "id": "woMz_1pzQ1Dh"
      },
      "execution_count": null,
      "outputs": []
    },
    {
      "cell_type": "code",
      "source": [
        "x = x.drop(columns = ['wt'])"
      ],
      "metadata": {
        "id": "9JqK2gioQ5Em"
      },
      "execution_count": null,
      "outputs": []
    },
    {
      "cell_type": "code",
      "source": [
        "print(x.head())"
      ],
      "metadata": {
        "id": "tu5WLPvbRB9o"
      },
      "execution_count": null,
      "outputs": []
    },
    {
      "cell_type": "code",
      "source": [
        "# qsec_4 만들기, qsec의 4배로 1mile 도달 시간 변수\n",
        "x['qsec_4'] = x['qsec'] * 4"
      ],
      "metadata": {
        "id": "UcMseSSCRHHD"
      },
      "execution_count": null,
      "outputs": []
    },
    {
      "cell_type": "code",
      "source": [
        "print(x[['qsec', 'qsec_4']])"
      ],
      "metadata": {
        "id": "zc5mVE4kRSHT"
      },
      "execution_count": null,
      "outputs": []
    },
    {
      "cell_type": "code",
      "source": [
        "x = x.drop(columns = ['qsec'])\n",
        "print(x.head())"
      ],
      "metadata": {
        "id": "Nna7b2GHRV2L"
      },
      "execution_count": null,
      "outputs": []
    },
    {
      "cell_type": "markdown",
      "source": [
        "## 학습 데이터로 공부하기\n",
        "### 모델 생성과 모델 검증"
      ],
      "metadata": {
        "id": "H9vWVnBIRc09"
      }
    },
    {
      "cell_type": "code",
      "source": [
        "# 데이터 분리 위한 train_Test_split 함수\n",
        "from sklearn.model_selection import train_test_split"
      ],
      "metadata": {
        "id": "_eQ5SCRKRja8"
      },
      "execution_count": null,
      "outputs": []
    },
    {
      "cell_type": "code",
      "source": [
        "#train_test_split에는 첫째 독립변수 데이터 셋, 둘째 종속변수 데이터 셋, 셋째 테스트 데이터로 분리할 비율값을 입력\n",
        "x_train, x_test, y_train, y_test = train_test_split(x, y, test_size = 0.3, \\\n",
        "                                                    random_state = 10)"
      ],
      "metadata": {
        "id": "dxlTKHs9S6kM"
      },
      "execution_count": null,
      "outputs": []
    },
    {
      "cell_type": "code",
      "source": [
        "print(x_train.head())"
      ],
      "metadata": {
        "id": "bGucxX3CTOTr"
      },
      "execution_count": null,
      "outputs": []
    },
    {
      "cell_type": "code",
      "source": [
        "print(y_train.head())"
      ],
      "metadata": {
        "id": "PIanVPa_TUid"
      },
      "execution_count": null,
      "outputs": []
    },
    {
      "cell_type": "code",
      "source": [
        "print(x_test.head())"
      ],
      "metadata": {
        "id": "t76-AM_2TdEh"
      },
      "execution_count": null,
      "outputs": []
    },
    {
      "cell_type": "code",
      "source": [
        "print(y_test.head())"
      ],
      "metadata": {
        "id": "jeo_de1VTgGy"
      },
      "execution_count": null,
      "outputs": []
    },
    {
      "cell_type": "markdown",
      "source": [
        "### 모델링(학습에 대한 평가)"
      ],
      "metadata": {
        "id": "BqMI_ipfTkGo"
      }
    },
    {
      "cell_type": "markdown",
      "source": [
        "#### 종속변수가 연속형 변수인 mpg, 범주형 변수인 am 두 가지 연습"
      ],
      "metadata": {
        "id": "FZBfr7LCTpSu"
      }
    },
    {
      "cell_type": "code",
      "source": [
        "# 선형회귀\n",
        "from sklearn.linear_model import LinearRegression\n",
        "model = LinearRegression()\n",
        "\n",
        "model.fit(x_train, y_train)\n",
        "y_train_predicted = model.predict(x_train)\n",
        "y_test_predicted = model.predict(x_test)\n"
      ],
      "metadata": {
        "id": "bbBWyvFuT_mN"
      },
      "execution_count": null,
      "outputs": []
    },
    {
      "cell_type": "code",
      "source": [
        "#y절편\n",
        "print(model.intercept_)"
      ],
      "metadata": {
        "id": "s7SyDcuWUQcZ"
      },
      "execution_count": null,
      "outputs": []
    },
    {
      "cell_type": "code",
      "source": [
        "#독립변수들의 각 기울기 \n",
        "print(model.coef_)"
      ],
      "metadata": {
        "id": "QNBnzAObUaHD"
      },
      "execution_count": null,
      "outputs": []
    },
    {
      "cell_type": "code",
      "source": [
        "# 예측모델의 정확성\n",
        "# 결정계수\n",
        "print(model.score(x_train, y_train))\n",
        "print(model.score(x_test, y_test))\n"
      ],
      "metadata": {
        "id": "1r0WyfOsUgk2"
      },
      "execution_count": null,
      "outputs": []
    },
    {
      "cell_type": "markdown",
      "source": [
        "과적합 현상 나타남"
      ],
      "metadata": {
        "id": "AQjBibh1XljO"
      }
    },
    {
      "cell_type": "code",
      "source": [
        "#결정계수 계산하는 r2_Score\n",
        "from sklearn.metrics import r2_score\n",
        "\n",
        "#MAE 계산하는 mean_absolute_error\n",
        "from sklearn.metrics import mean_absolute_error\n",
        "\n",
        "#MSE\n",
        "from sklearn.metrics import mean_squared_error\n",
        "\n",
        "#제곱근 계산 위한 numpy\n",
        "import numpy as np"
      ],
      "metadata": {
        "id": "TM8Cjt7vXrTT"
      },
      "execution_count": null,
      "outputs": []
    },
    {
      "cell_type": "code",
      "source": [
        "print(r2_score(y_train, y_train_predicted))\n",
        "print(r2_score(y_test, y_test_predicted))\n",
        "print(mean_squared_error(y_test, y_test_predicted))\n",
        "print(np.sqrt(mean_squared_error(y_test, y_test_predicted)))\n",
        "print(mean_absolute_error(y_test, y_test_predicted))\n"
      ],
      "metadata": {
        "id": "sLTlAMEhYC5I"
      },
      "execution_count": null,
      "outputs": []
    },
    {
      "cell_type": "code",
      "source": [
        "# 램덤포레스트 회귀\n",
        "from sklearn.ensemble import RandomForestRegressor\n",
        "\n",
        "model = RandomForestRegressor(random_state = 10)\n",
        "\n",
        "model.fit(x_train, y_train)\n",
        "\n",
        "y_train_predicted = model.predict(x_train)\n",
        "\n",
        "y_test_predicted = model.predict(x_test)"
      ],
      "metadata": {
        "id": "Y4ay3uANYGwf"
      },
      "execution_count": null,
      "outputs": []
    },
    {
      "cell_type": "code",
      "source": [
        "from sklearn.metrics import r2_score, mean_squared_error, mean_absolute_error\n",
        "\n",
        "print(r2_score(y_train, y_train_predicted))\n",
        "\n",
        "print(r2_score(y_test, y_test_predicted))\n",
        "\n",
        "print(mean_squared_error(y_test, y_test_predicted))\n",
        "print(mean_absolute_error(y_test, y_test_predicted))"
      ],
      "metadata": {
        "id": "X17IBN1f48Pt"
      },
      "execution_count": null,
      "outputs": []
    },
    {
      "cell_type": "code",
      "source": [
        "# 트리의 성능을 올리기 위해\n",
        "# 트리 개수, 기준을 변경하고 지표는 MSE->MAE로\n",
        "\n",
        "model = RandomForestRegressor(n_estimators = 1000, criterion = 'mae', random_state = 10)\n",
        "\n",
        "model.fit(x_train, y_train)\n",
        "y_train_predicted = model.predict(x_train)\n",
        "y_test_predicted = model.predict(x_test)"
      ],
      "metadata": {
        "id": "gFjCgNsr5Y5w"
      },
      "execution_count": null,
      "outputs": []
    },
    {
      "cell_type": "code",
      "source": [
        "print(r2_score(y_train, y_train_predicted))\n",
        "print(r2_score(y_test, y_test_predicted))"
      ],
      "metadata": {
        "id": "hh7SWDLF52yT"
      },
      "execution_count": null,
      "outputs": []
    },
    {
      "cell_type": "code",
      "source": [
        "print(mean_squared_error(y_test, y_test_predicted))\n",
        "print(mean_absolute_error(y_test, y_test_predicted))"
      ],
      "metadata": {
        "id": "eCsFVKMJ6Jta"
      },
      "execution_count": null,
      "outputs": []
    },
    {
      "cell_type": "code",
      "source": [
        "# 그레디언트 부스팅 회귀\n",
        "from sklearn.ensemble import GradientBoostingRegressor\n",
        "\n",
        "model = GradientBoostingRegressor(random_state = 10)\n",
        "\n",
        "model.fit(x_train, y_train)\n",
        "\n",
        "y_train_predicted = model.predict(x_train)\n",
        "\n",
        "y_test_predicted = model.predict(x_test)\n"
      ],
      "metadata": {
        "id": "X1ISOMZw6QFJ"
      },
      "execution_count": null,
      "outputs": []
    },
    {
      "cell_type": "code",
      "source": [
        "from sklearn.metrics import r2_score, mean_squared_error, mean_absolute_error\n",
        "\n",
        "print(r2_score(y_train, y_train_predicted))\n",
        "\n",
        "print(r2_score(y_test, y_test_predicted))\n",
        "\n",
        "print(mean_squared_error(y_test, y_test_predicted))\n",
        "print(mean_absolute_error(y_test, y_test_predicted))"
      ],
      "metadata": {
        "id": "Sva2z_PA6ya1"
      },
      "execution_count": null,
      "outputs": []
    },
    {
      "cell_type": "code",
      "source": [
        "# 익스트림 그레디언트 부스팅 회귀(XGB Regressor)\n",
        "from xgboost import XGBRegressor\n",
        "model = XGBRegressor(objective='reg:squarederror', random_state = 10)\n",
        "\n",
        "model.fit(x_train, y_train)\n",
        "\n",
        "y_train_predicted = model.predict(x_train)\n",
        "\n",
        "y_test_predicted = model.predict(x_test)"
      ],
      "metadata": {
        "id": "DrDlytph62IS"
      },
      "execution_count": null,
      "outputs": []
    },
    {
      "cell_type": "code",
      "source": [
        "from sklearn.metrics import r2_score, mean_squared_error, mean_absolute_error\n",
        "\n",
        "print(r2_score(y_train, y_train_predicted))\n",
        "\n",
        "print(r2_score(y_test, y_test_predicted))\n",
        "\n",
        "print(mean_squared_error(y_test, y_test_predicted))\n",
        "print(mean_absolute_error(y_test, y_test_predicted))"
      ],
      "metadata": {
        "id": "XRuhR1KD7VGd"
      },
      "execution_count": null,
      "outputs": []
    },
    {
      "cell_type": "code",
      "source": [
        "# 분류 모델링\n",
        "# 기존 데이터셋을 가공해 수행\n",
        "# 쫑속변수를 변속기 유형인 am_new로 설쩡하기 위해\n",
        "\n",
        "# xtrain 에서 종속 변수 삭제하기\n",
        "x_train2 = x_train.drop(columns = 'am_new')\n",
        "\n",
        "y_train2 = x_train['am_new']\n",
        "\n",
        "x_test2 = x_test.drop(columns = 'am_new')\n",
        "\n",
        "y_test2 = x_test['am_new']"
      ],
      "metadata": {
        "id": "C_Tt7M9G7bE9"
      },
      "execution_count": null,
      "outputs": []
    },
    {
      "cell_type": "code",
      "source": [
        "print(x_train2)\n",
        "print(y_train2)"
      ],
      "metadata": {
        "id": "SE-dEDzg7vuq"
      },
      "execution_count": null,
      "outputs": []
    },
    {
      "cell_type": "code",
      "source": [
        "# 의사결정나무 분류\n",
        "# 과적합 가능성이 큰 모델\n",
        "# 특성들이 단독으로 처리되어 데이터 스케일 영향을 덜 받고 예측, 분류에 모두 사용 가능\n",
        "from sklearn.tree import DecisionTreeClassifier\n",
        "model = DecisionTreeClassifier()\n",
        "\n",
        "model.fit(x_train2, y_train2)\n",
        "y_test2_predicted = model.predict(x_test2)"
      ],
      "metadata": {
        "id": "dVdHuvFH75Nw"
      },
      "execution_count": null,
      "outputs": []
    },
    {
      "cell_type": "code",
      "source": [
        "#ROC-AUC 계산\n",
        "from sklearn.metrics import roc_auc_score\n",
        "from sklearn.metrics import accuracy_score, precision_score, recall_score\n"
      ],
      "metadata": {
        "id": "YipjTuLK8XCQ"
      },
      "execution_count": null,
      "outputs": []
    },
    {
      "cell_type": "code",
      "source": [
        "print(roc_auc_score(y_test2, y_test2_predicted))\n",
        "\n",
        "print(accuracy_score(y_test2, y_test2_predicted))\n",
        "\n",
        "print(precision_score(y_test2, y_test2_predicted))\n",
        "\n",
        "print(recall_score(y_test2, y_test2_predicted))\n",
        "\n"
      ],
      "metadata": {
        "id": "2AHpvoaj8gjB"
      },
      "execution_count": null,
      "outputs": []
    },
    {
      "cell_type": "code",
      "source": [
        ""
      ],
      "metadata": {
        "id": "Y6u8-dd09B8Z"
      },
      "execution_count": null,
      "outputs": []
    },
    {
      "cell_type": "code",
      "source": [
        "# 랜덤포레스트\n",
        "# 앙상블 모델로 다수 트리 중 투표\n",
        "from sklearn.ensemble import RandomForestClassifier\n",
        "\n",
        "model = RandomForestClassifier()\n",
        "model.fit(x_train2, y_train2)\n",
        "\n",
        "y_test2_predicted = model.predict(x_test2)"
      ],
      "metadata": {
        "id": "gqSGtU4r8rCR"
      },
      "execution_count": null,
      "outputs": []
    },
    {
      "cell_type": "code",
      "source": [
        "print(roc_auc_score(y_test2, y_test2_predicted))\n"
      ],
      "metadata": {
        "id": "pp8jGEGA9F7T"
      },
      "execution_count": null,
      "outputs": []
    },
    {
      "cell_type": "code",
      "source": [
        "# 로지스틱 회귀\n",
        "\n",
        "from sklearn.linear_model import LogisticRegression\n",
        "\n",
        "model = LogisticRegression()\n",
        "model.fit(x_train2, y_train2)\n",
        "\n",
        "y_test2_predicted = model.predict(x_test2)"
      ],
      "metadata": {
        "id": "uLO6sKYw9NiN"
      },
      "execution_count": null,
      "outputs": []
    },
    {
      "cell_type": "code",
      "source": [
        "print(roc_auc_score(y_test2, y_test2_predicted))\n"
      ],
      "metadata": {
        "id": "mmz3F5MH9ZLs"
      },
      "execution_count": null,
      "outputs": []
    },
    {
      "cell_type": "code",
      "source": [
        "# XGB 분류\n",
        "# 다수의 약한 분류기를 모아 정확도를 향상, 병렬처리\n",
        "from xgboost import XGBClassifier\n",
        "\n",
        "model = XGBClassifier()\n",
        "model.fit(x_train2, y_train2)\n",
        "\n",
        "y_test2_predicted = model.predict(x_test2)"
      ],
      "metadata": {
        "id": "52j1FV8T90ve"
      },
      "execution_count": null,
      "outputs": []
    },
    {
      "cell_type": "code",
      "source": [
        "print(y_test2_predicted)"
      ],
      "metadata": {
        "id": "PJcWfo4e-EAs"
      },
      "execution_count": null,
      "outputs": []
    },
    {
      "cell_type": "code",
      "source": [
        "# 0,1로 분류되는 종속변수가 각 값엥 대해 어느 정도 확률은 가지는지\n",
        "# 1열은 0으로 2열은 1로 분류될 확률\n",
        "# predict_proba() 사용\n",
        "\n",
        "y_test2_proba = model.predict_proba(x_test2)\n",
        "print(y_test2_proba)"
      ],
      "metadata": {
        "id": "Sj4M3mp1-FEs"
      },
      "execution_count": null,
      "outputs": []
    },
    {
      "cell_type": "code",
      "source": [
        "print(roc_auc_score(y_test2, y_test2_predicted))\n"
      ],
      "metadata": {
        "id": "CYqVb4Sy_EnW"
      },
      "execution_count": null,
      "outputs": []
    },
    {
      "cell_type": "markdown",
      "source": [
        "## 작업 1유형 단순한 데이터 처리"
      ],
      "metadata": {
        "id": "JhgB4l3nAGKx"
      }
    },
    {
      "cell_type": "markdown",
      "source": [
        "사용 데이터는 Boston"
      ],
      "metadata": {
        "id": "LMDucZtIBJR1"
      }
    },
    {
      "cell_type": "markdown",
      "source": [
        "문제 : boston 데이터 셋의 MEDV 칼럼에 대해 가장 작은 값부터 순서대로 10개 행을 출력 \\\n",
        "즉, 오름차순으로 정렬된 MEDV값에서 Top 10을 구하시오\n"
      ],
      "metadata": {
        "id": "WuH5S908BYJM"
      }
    },
    {
      "cell_type": "code",
      "source": [
        "# pandas 가져오고 csv불러오기\n",
        "import pandas as pd\n",
        "data = pd.read_csv('/content/drive/MyDrive/bigData-main/boston.csv')"
      ],
      "metadata": {
        "id": "m8RMvjBUBits"
      },
      "execution_count": null,
      "outputs": []
    },
    {
      "cell_type": "code",
      "source": [
        "print(data.head())"
      ],
      "metadata": {
        "id": "qiE7DNZMBrvM"
      },
      "execution_count": null,
      "outputs": []
    },
    {
      "cell_type": "code",
      "source": [
        "print(data.sort_values(by = 'MEDV', ascending = True))"
      ],
      "metadata": {
        "id": "-KpPqS60RVvE"
      },
      "execution_count": null,
      "outputs": []
    },
    {
      "cell_type": "code",
      "source": [
        "print(data.sort_values(by = 'MEDV', ascending = True)['MEDV'])"
      ],
      "metadata": {
        "id": "gCDHaD_iRf71"
      },
      "execution_count": null,
      "outputs": []
    },
    {
      "cell_type": "code",
      "source": [
        "print(data.sort_values(by = 'MEDV', ascending = True)['MEDV'].head(10))"
      ],
      "metadata": {
        "id": "rXuKvsCoRned"
      },
      "execution_count": null,
      "outputs": []
    },
    {
      "cell_type": "markdown",
      "source": [
        "문제 : boston 데이터셋의 RM 데이터 결측치 처리를 평균값으로 대치하거나 삭제. \\\n",
        "평균으로 대치하고 산출된 표준편차 값과 결측치 삭제한 후 산출된 표준편차 값의 차이를 구하라"
      ],
      "metadata": {
        "id": "T-hbDHTFRqrk"
      }
    },
    {
      "cell_type": "code",
      "source": [
        "print(data.head())"
      ],
      "metadata": {
        "id": "cxH71QiLR5WS"
      },
      "execution_count": null,
      "outputs": []
    },
    {
      "cell_type": "code",
      "source": [
        "print(data['RM'].isnull().sum())"
      ],
      "metadata": {
        "id": "CITqrEnCR7Xy"
      },
      "execution_count": null,
      "outputs": []
    },
    {
      "cell_type": "code",
      "source": [
        "print(data['RM'].mean())\n",
        "#비교를 위해 평균 대치의 DF\n",
        "data_mean = data['RM'].copy()"
      ],
      "metadata": {
        "id": "g02v212JR-zc"
      },
      "execution_count": null,
      "outputs": []
    },
    {
      "cell_type": "code",
      "source": [
        "print(data_mean.isnull().sum())"
      ],
      "metadata": {
        "id": "Y7rancT2SBHN"
      },
      "execution_count": null,
      "outputs": []
    },
    {
      "cell_type": "code",
      "source": [
        "print(data_mean.head(3))"
      ],
      "metadata": {
        "id": "3sz1qVacSGV8"
      },
      "execution_count": null,
      "outputs": []
    },
    {
      "cell_type": "code",
      "source": [
        "rm_mean = data_mean.mean()\n",
        "print(rm_mean)"
      ],
      "metadata": {
        "id": "c7z2yZjOSH1m"
      },
      "execution_count": null,
      "outputs": []
    },
    {
      "cell_type": "code",
      "source": [
        "print(data_mean.fillna(rm_mean, inplace = False))"
      ],
      "metadata": {
        "id": "5ddiHbUbSjvw"
      },
      "execution_count": null,
      "outputs": []
    },
    {
      "cell_type": "code",
      "source": [
        "print(data_mean.fillna(rm_mean, inplace = True))\n",
        "print(data_mean.isnull().sum())"
      ],
      "metadata": {
        "id": "wbblWgOXTTo3"
      },
      "execution_count": null,
      "outputs": []
    },
    {
      "cell_type": "code",
      "source": [
        "# del 경우 \n",
        "data_del = data['RM'].copy()"
      ],
      "metadata": {
        "id": "JYjFFff7TaLB"
      },
      "execution_count": null,
      "outputs": []
    },
    {
      "cell_type": "code",
      "source": [
        "print(data_del.isnull().sum())"
      ],
      "metadata": {
        "id": "INP4zkoqTjvx"
      },
      "execution_count": null,
      "outputs": []
    },
    {
      "cell_type": "code",
      "source": [
        "print(data_del.shape)"
      ],
      "metadata": {
        "id": "KeKj8ncZTlmc"
      },
      "execution_count": null,
      "outputs": []
    },
    {
      "cell_type": "code",
      "source": [
        "data_del.dropna(inplace = True)"
      ],
      "metadata": {
        "id": "ARoMsUmyTnFB"
      },
      "execution_count": null,
      "outputs": []
    },
    {
      "cell_type": "code",
      "source": [
        "print(data_del.shape)"
      ],
      "metadata": {
        "id": "7cFSBDOVTqRY"
      },
      "execution_count": null,
      "outputs": []
    },
    {
      "cell_type": "code",
      "source": [
        "print(data_del.isnull().sum())"
      ],
      "metadata": {
        "id": "39YQ3d61Tq3E"
      },
      "execution_count": null,
      "outputs": []
    },
    {
      "cell_type": "code",
      "source": [
        "print(data_mean.std())"
      ],
      "metadata": {
        "id": "i3aEYDV1TtmH"
      },
      "execution_count": null,
      "outputs": []
    },
    {
      "cell_type": "code",
      "source": [
        "print(data_del.std())"
      ],
      "metadata": {
        "id": "Hj1PGfLDTv_g"
      },
      "execution_count": null,
      "outputs": []
    },
    {
      "cell_type": "code",
      "source": [
        "print(abs(data_mean.std() - data_del.std()))"
      ],
      "metadata": {
        "id": "Y7pG1GC_TxGs"
      },
      "execution_count": null,
      "outputs": []
    },
    {
      "cell_type": "markdown",
      "source": [
        "문제 \\\n",
        "이상값 확인. 데이터 셋의 ZN 칼럼을 대상으로 ZN 값의 평균값에서 표준 편차의 1.5배보다 크거나 작은 zn값의 합계"
      ],
      "metadata": {
        "id": "13wTl6VuT2Z7"
      }
    },
    {
      "cell_type": "code",
      "source": [
        "print(data['ZN'].head())"
      ],
      "metadata": {
        "id": "xm6ZoAQTWgOz"
      },
      "execution_count": null,
      "outputs": []
    },
    {
      "cell_type": "code",
      "source": [
        "print(data['ZN'].mean())\n",
        "zn_mean = data['ZN'].mean()"
      ],
      "metadata": {
        "id": "bwe2jI_gWiRO"
      },
      "execution_count": null,
      "outputs": []
    },
    {
      "cell_type": "code",
      "source": [
        "print(data['ZN'].std())\n",
        "zn_std = data['ZN'].std()"
      ],
      "metadata": {
        "id": "MyuiQHwgWmUT"
      },
      "execution_count": null,
      "outputs": []
    },
    {
      "cell_type": "code",
      "source": [
        "zn_max = zn_mean + (1.5 * zn_std)"
      ],
      "metadata": {
        "id": "KynukvEeWohY"
      },
      "execution_count": null,
      "outputs": []
    },
    {
      "cell_type": "code",
      "source": [
        "print(zn_max)"
      ],
      "metadata": {
        "id": "wmvwYXjaWvBs"
      },
      "execution_count": null,
      "outputs": []
    },
    {
      "cell_type": "code",
      "source": [
        "zn_min = zn_mean - (1.5 * zn_std)"
      ],
      "metadata": {
        "id": "DgIrfUJsW2uz"
      },
      "execution_count": null,
      "outputs": []
    },
    {
      "cell_type": "code",
      "source": [
        "print(zn_min)"
      ],
      "metadata": {
        "id": "pDJEfPACW54_"
      },
      "execution_count": null,
      "outputs": []
    },
    {
      "cell_type": "code",
      "source": [
        "print(data[data['ZN'] > zn_max]['ZN'])\n",
        "zn_max2 = data[data['ZN'] > zn_max]['ZN']"
      ],
      "metadata": {
        "id": "yOosOc2bW76s"
      },
      "execution_count": null,
      "outputs": []
    },
    {
      "cell_type": "code",
      "source": [
        "print(data[data['ZN'] < zn_min])\n",
        "print(sum(zn_max2))"
      ],
      "metadata": {
        "id": "tYE6RN3ZW-26"
      },
      "execution_count": null,
      "outputs": []
    },
    {
      "cell_type": "markdown",
      "source": [
        "문제 \\\n",
        "CHAS 칼럼과 RAD 칼럼을 제외한 칼럼에 한해 칼럼별 IQR \\\n",
        "단, 출력 구조는 2열이고 1열은 보스턴 데이터 셋의 칼럼 이름이 표시되어야\n"
      ],
      "metadata": {
        "id": "6VaoE2Z1XQBf"
      }
    },
    {
      "cell_type": "code",
      "source": [
        "print(data.head())"
      ],
      "metadata": {
        "id": "NhcdivMbXgO_"
      },
      "execution_count": null,
      "outputs": []
    },
    {
      "cell_type": "code",
      "source": [
        "print(data.drop(columns = ['CHAS', 'RAD']))"
      ],
      "metadata": {
        "id": "Yi-vCPjuYCJe"
      },
      "execution_count": null,
      "outputs": []
    },
    {
      "cell_type": "code",
      "source": [
        "data_col12 = data.drop(columns = ['CHAS', 'RAD'])\n",
        "print(data_col12.shape)"
      ],
      "metadata": {
        "id": "ZblHjmJoYKBu"
      },
      "execution_count": null,
      "outputs": []
    },
    {
      "cell_type": "code",
      "source": [
        "data_col12_desc = data_col12.describe()"
      ],
      "metadata": {
        "id": "grTJ6BGBYWsi"
      },
      "execution_count": null,
      "outputs": []
    },
    {
      "cell_type": "code",
      "source": [
        "print(data_col12_desc)"
      ],
      "metadata": {
        "id": "gnGGpT4bYbe7"
      },
      "execution_count": null,
      "outputs": []
    },
    {
      "cell_type": "code",
      "source": [
        "print(data_col12_desc.iloc[[4,6]])"
      ],
      "metadata": {
        "id": "gFlrV11HYdpc"
      },
      "execution_count": null,
      "outputs": []
    },
    {
      "cell_type": "code",
      "source": [
        "print(data_col12_desc.iloc[[4,6]].T)\n",
        "data_col12_Desc_T = data_col12_desc.iloc[[4,6]].T"
      ],
      "metadata": {
        "id": "TCSy4DcEYj62"
      },
      "execution_count": null,
      "outputs": []
    },
    {
      "cell_type": "code",
      "source": [
        "print(data_col12_Desc_T['75%'] - data_col12_Desc_T['25%'])"
      ],
      "metadata": {
        "id": "6gXxDalKYrhn"
      },
      "execution_count": null,
      "outputs": []
    },
    {
      "cell_type": "markdown",
      "source": [
        "문제 \\\n",
        "순위 구하기 \\\n",
        "MEDV 칼럼의 30번째로 큰 값을 구합니다. 그리고 1번째부터 29번째로 큰 값을 30번째 큰 값으로 변경.\n",
        "이후 MEDV 칼럼의 평균, 중위, 최소, 최대를 한 줄에 출력"
      ],
      "metadata": {
        "id": "blmG2xQ0Y7pa"
      }
    },
    {
      "cell_type": "code",
      "source": [
        "print(data['MEDV'])"
      ],
      "metadata": {
        "id": "XWaxy90DZKEM"
      },
      "execution_count": null,
      "outputs": []
    },
    {
      "cell_type": "code",
      "source": [
        "data_new = data['MEDV'].sort_values(ascending = False)\n",
        "\n",
        "print(data_new.head(30))"
      ],
      "metadata": {
        "id": "VcUIl_QgZM2i"
      },
      "execution_count": null,
      "outputs": []
    },
    {
      "cell_type": "code",
      "source": [
        "print(data_new.iloc[29])"
      ],
      "metadata": {
        "id": "vQHs0zOpZTFY"
      },
      "execution_count": null,
      "outputs": []
    },
    {
      "cell_type": "code",
      "source": [
        "data_new.iloc[0:29] = data_new.iloc[29]"
      ],
      "metadata": {
        "id": "48qAja_SZn6W"
      },
      "execution_count": null,
      "outputs": []
    },
    {
      "cell_type": "code",
      "source": [
        "print(data_new.mean(), data_new.median(), data_new.min(), data_new.max())"
      ],
      "metadata": {
        "id": "JymKf7fBZ0lb"
      },
      "execution_count": null,
      "outputs": []
    },
    {
      "cell_type": "markdown",
      "source": [
        "문제 \\\n",
        "그룹별 집계/요약 \\\n",
        "TAX 칼럼이 TAX 칼럼의 중위값보다 큰 데이터를 대상으로 , CHAS, RAD 칼럼 순으로 그룹 지은 후 각 그룹의 데이터 개수 \\\n",
        "단, 두 칼럼 데이터 개수는 count 라는 칼럼으로 출력"
      ],
      "metadata": {
        "id": "0ORYpAZKZ2nY"
      }
    },
    {
      "cell_type": "code",
      "source": [
        "data[data['TAX'] > data['TAX'].median()].groupby(['CHAS','RAD'])['RAD'].count()"
      ],
      "metadata": {
        "id": "lV5vkxAKaLj-"
      },
      "execution_count": null,
      "outputs": []
    },
    {
      "cell_type": "code",
      "source": [
        "data_new3 = data[data['TAX'] > data['TAX'].median()].groupby(['CHAS','RAD'])['RAD'].count()\n",
        "data_new3 = pd.DataFrame(data_new3)\n",
        "print(data_new3)"
      ],
      "metadata": {
        "id": "cUst2iLHmfoK"
      },
      "execution_count": null,
      "outputs": []
    },
    {
      "cell_type": "code",
      "source": [
        "data_new3.columns = ['COUNT']\n",
        "print(type(data_new3))\n",
        "print(data_new3)"
      ],
      "metadata": {
        "id": "hhlA7SEyn_il"
      },
      "execution_count": null,
      "outputs": []
    },
    {
      "cell_type": "markdown",
      "source": [
        "문제 \\\n",
        "오름차순,내림차순 정렬 \\ \n",
        "TAX 기준 오름차순으로 정렬 - 내림차순으로 정렬 만들기 \\\n",
        "동일한 위치에 있는 데이터의 차이에서 분산 계산"
      ],
      "metadata": {
        "id": "knZ44oLDoFT6"
      }
    },
    {
      "cell_type": "code",
      "source": [
        "tax_asc = data['TAX'].sort_values(ascending = True)\n",
        "tax_desc = data['TAX'].sort_values(ascending = False)"
      ],
      "metadata": {
        "id": "o7MbgEHLo1ei"
      },
      "execution_count": null,
      "outputs": []
    },
    {
      "cell_type": "code",
      "source": [
        "tax_asc.reset_index(drop = True, inplace = True)\n",
        "tax_desc.reset_index(drop = True, inplace = True)\n"
      ],
      "metadata": {
        "id": "Wf0obwyDpIeE"
      },
      "execution_count": null,
      "outputs": []
    },
    {
      "cell_type": "code",
      "source": [
        "data_concat = pd.concat([tax_asc, tax_desc], axis = 1)\n",
        "data_concat"
      ],
      "metadata": {
        "id": "8DdjhhE8pSY_"
      },
      "execution_count": null,
      "outputs": []
    },
    {
      "cell_type": "code",
      "source": [
        "data_concat['diff'] = abs(data_concat.iloc[:, 0] - data_concat.iloc[:, 1])"
      ],
      "metadata": {
        "id": "FJEfYYzipTZK"
      },
      "execution_count": null,
      "outputs": []
    },
    {
      "cell_type": "code",
      "source": [
        "data_concat"
      ],
      "metadata": {
        "id": "VksjVdhCp1Dq"
      },
      "execution_count": null,
      "outputs": []
    },
    {
      "cell_type": "code",
      "source": [
        "data_concat['diff'].var()"
      ],
      "metadata": {
        "id": "DDe2JneyqBKz"
      },
      "execution_count": null,
      "outputs": []
    },
    {
      "cell_type": "markdown",
      "source": [
        "문제 \\\n",
        "최소최대 변환 \\ \n",
        "MEDV 를 최소최대로 변환하고 0.5보다 큰 값을 가지는 레코드 수 구하기"
      ],
      "metadata": {
        "id": "1uF_b5DwqGAe"
      }
    },
    {
      "cell_type": "code",
      "source": [
        "from sklearn.preprocessing import MinMaxScaler"
      ],
      "metadata": {
        "id": "XEAC7uVyqSge"
      },
      "execution_count": null,
      "outputs": []
    },
    {
      "cell_type": "code",
      "source": [
        "scaler = MinMaxScaler()\n",
        "data_minmax = scaler.fit_transform(data)"
      ],
      "metadata": {
        "id": "W2MkDW1TqXBb"
      },
      "execution_count": null,
      "outputs": []
    },
    {
      "cell_type": "code",
      "source": [
        "print(type(data_minmax))"
      ],
      "metadata": {
        "id": "3ezk4RMNqcE4"
      },
      "execution_count": null,
      "outputs": []
    },
    {
      "cell_type": "code",
      "source": [
        "data_minmax = pd.DataFrame(data_minmax, columns = data.columns)"
      ],
      "metadata": {
        "id": "fN1ys9Peqd67"
      },
      "execution_count": null,
      "outputs": []
    },
    {
      "cell_type": "code",
      "source": [
        "data_minmax['MEDV'].describe()"
      ],
      "metadata": {
        "id": "fKSZ6Y0aqlvH"
      },
      "execution_count": null,
      "outputs": []
    },
    {
      "cell_type": "code",
      "source": [
        "data_minmax[data_minmax['MEDV'] > 0.5]['MEDV'].count()"
      ],
      "metadata": {
        "id": "XrSu5wxbq0nG"
      },
      "execution_count": null,
      "outputs": []
    },
    {
      "cell_type": "markdown",
      "source": [
        "문제 \\\n",
        "빈도값 구하기 \\\n",
        "AGE 칼럼을 소수점 첫 자리에서 반올림하고, 가장 많은 비중 차지하는 AGE 값과 그 개수를 차례로 출력 \\\n",
        "즉, AGE 칼럼의 최빈값과 그 개수를 출력"
      ],
      "metadata": {
        "id": "hmXSnqJvq_CF"
      }
    },
    {
      "cell_type": "code",
      "source": [
        "age_round = round(data['AGE'])"
      ],
      "metadata": {
        "id": "SWCGcs_JrSXo"
      },
      "execution_count": null,
      "outputs": []
    },
    {
      "cell_type": "code",
      "source": [
        "age_round = pd.DataFrame(age_round.value_counts())\n",
        "age_round"
      ],
      "metadata": {
        "id": "1VwxduptslPe"
      },
      "execution_count": null,
      "outputs": []
    },
    {
      "cell_type": "code",
      "source": [
        "age_round.iloc[0,:]"
      ],
      "metadata": {
        "id": "krjHs1LAsu-E"
      },
      "execution_count": null,
      "outputs": []
    },
    {
      "cell_type": "code",
      "source": [
        "# 교재 속 방법\n",
        "# 1 일반적 방법ㅂ\n",
        "data2 = round(data['AGE'], 0)"
      ],
      "metadata": {
        "id": "tCMpyBkmtOg1"
      },
      "execution_count": null,
      "outputs": []
    },
    {
      "cell_type": "code",
      "source": [
        "data2 = pd.DataFrame(data2)"
      ],
      "metadata": {
        "id": "YHUB9JVdtz0Y"
      },
      "execution_count": null,
      "outputs": []
    },
    {
      "cell_type": "code",
      "source": [
        "data2.groupby(['AGE'])['AGE'].count()"
      ],
      "metadata": {
        "id": "xgMGBSDPt8DT"
      },
      "execution_count": null,
      "outputs": []
    },
    {
      "cell_type": "code",
      "source": [
        "data3 = data2.groupby(['AGE'])['AGE'].count()\n",
        "type(data3)\n",
        "data3 = pd.DataFrame(data3)"
      ],
      "metadata": {
        "id": "NmqHfApouAKh"
      },
      "execution_count": null,
      "outputs": []
    },
    {
      "cell_type": "code",
      "source": [
        "data3.columns = ['COUNT']"
      ],
      "metadata": {
        "id": "ndZz0wNhuC2D"
      },
      "execution_count": null,
      "outputs": []
    },
    {
      "cell_type": "code",
      "source": [
        "data3.reset_index(drop= False, inplace = True)"
      ],
      "metadata": {
        "id": "_qe7MUl0uQKw"
      },
      "execution_count": null,
      "outputs": []
    },
    {
      "cell_type": "code",
      "source": [
        "data3.head(3)"
      ],
      "metadata": {
        "id": "35yBGL1FuTDP"
      },
      "execution_count": null,
      "outputs": []
    },
    {
      "cell_type": "code",
      "source": [
        "data3.sort_values(by = 'COUNT', ascending = False, inplace = True)"
      ],
      "metadata": {
        "id": "mXrQaz2zuZ3s"
      },
      "execution_count": null,
      "outputs": []
    },
    {
      "cell_type": "code",
      "source": [
        "print(data3.iloc[0,0], data3.iloc[0,1])"
      ],
      "metadata": {
        "id": "buXgZXEkuia7"
      },
      "execution_count": null,
      "outputs": []
    },
    {
      "cell_type": "code",
      "source": [
        "# 2 scipy, mode \n",
        "from scipy.stats import mode\n",
        "mode(data2)"
      ],
      "metadata": {
        "id": "G2folkDsujXo"
      },
      "execution_count": null,
      "outputs": []
    },
    {
      "cell_type": "code",
      "source": [
        "int(mode(data2)[0])"
      ],
      "metadata": {
        "id": "4hR9eQ49u38f"
      },
      "execution_count": null,
      "outputs": []
    },
    {
      "cell_type": "code",
      "source": [
        "int(mode(data2)[1])"
      ],
      "metadata": {
        "id": "y04RBBQqu40N"
      },
      "execution_count": null,
      "outputs": []
    },
    {
      "cell_type": "code",
      "source": [
        "print(int(mode(data2)[0]), int(mode(data2)[1]))"
      ],
      "metadata": {
        "id": "JBnjeRbdvFlJ"
      },
      "execution_count": null,
      "outputs": []
    },
    {
      "cell_type": "markdown",
      "source": [
        "문제 \\\n",
        "표준 변환하기 \\\n",
        "DIS 칼럼을 표준화 척도로 변환해 0.4보다 크고 0.6보다 작은 값에 대한 평균 구하기 \\\n",
        "단, 소수점 셋째 자리에서 반올림"
      ],
      "metadata": {
        "id": "A4VM6RQ8vLo3"
      }
    },
    {
      "cell_type": "code",
      "source": [
        "data['DIS']"
      ],
      "metadata": {
        "id": "0Sn-zdIBve2g"
      },
      "execution_count": null,
      "outputs": []
    },
    {
      "cell_type": "code",
      "source": [
        "from sklearn.preprocessing import StandardScaler"
      ],
      "metadata": {
        "id": "XMnR1X49vg6O"
      },
      "execution_count": null,
      "outputs": []
    },
    {
      "cell_type": "code",
      "source": [
        "sclaer = StandardScaler()"
      ],
      "metadata": {
        "id": "oRgBhGFvvmA7"
      },
      "execution_count": null,
      "outputs": []
    },
    {
      "cell_type": "code",
      "source": [
        "data_std = scaler.fit_transform(data)"
      ],
      "metadata": {
        "id": "UTVTAjXUvprw"
      },
      "execution_count": null,
      "outputs": []
    },
    {
      "cell_type": "code",
      "source": [
        "data_std = pd.DataFrame(data_std, columns = data.columns)"
      ],
      "metadata": {
        "id": "pdZKprjQvsSv"
      },
      "execution_count": null,
      "outputs": []
    },
    {
      "cell_type": "code",
      "source": [
        "data_std = data_std[(data_std['DIS']>0.4) & (data_std['DIS'] < 0.6)]"
      ],
      "metadata": {
        "id": "ey4Z3ds9v3jd"
      },
      "execution_count": null,
      "outputs": []
    },
    {
      "cell_type": "code",
      "source": [
        "data_std['DIS'].mean()"
      ],
      "metadata": {
        "id": "j5qIDdS3v56g"
      },
      "execution_count": null,
      "outputs": []
    },
    {
      "cell_type": "code",
      "source": [
        "print(round(data_std['DIS'].mean(), 2))"
      ],
      "metadata": {
        "id": "t8v0AWdZwR8m"
      },
      "execution_count": null,
      "outputs": []
    },
    {
      "cell_type": "markdown",
      "source": [
        "문제 \\\n",
        "유니크한 값 구하기 \\\n",
        "전체 칼럼에 대해 중복 제거한 unique 구하고 칼럼 별로 유니크한 값 개수를 기준으로 평균 값"
      ],
      "metadata": {
        "id": "B8N9fPWvwhUS"
      }
    },
    {
      "cell_type": "code",
      "source": [
        "data_col = data.columns"
      ],
      "metadata": {
        "id": "XnM46TmmwpTw"
      },
      "execution_count": null,
      "outputs": []
    },
    {
      "cell_type": "code",
      "source": [
        "a = []\n",
        "for i in data_col:\n",
        "  a.append(data[i].nunique())"
      ],
      "metadata": {
        "id": "6_gm3LdWwuUE"
      },
      "execution_count": null,
      "outputs": []
    },
    {
      "cell_type": "code",
      "source": [
        "a"
      ],
      "metadata": {
        "id": "Jc0ItuYjwyzf"
      },
      "execution_count": null,
      "outputs": []
    },
    {
      "cell_type": "code",
      "source": [
        "b = []\n",
        "for i in a:\n",
        "  b.append(int(i))"
      ],
      "metadata": {
        "id": "CdyBihi6xdBj"
      },
      "execution_count": null,
      "outputs": []
    },
    {
      "cell_type": "code",
      "source": [
        "b"
      ],
      "metadata": {
        "id": "6SwoBCisxtP_"
      },
      "execution_count": null,
      "outputs": []
    },
    {
      "cell_type": "code",
      "source": [
        "sum(b)/len(b)"
      ],
      "metadata": {
        "id": "jBu3NfUWxeCD"
      },
      "execution_count": null,
      "outputs": []
    },
    {
      "cell_type": "markdown",
      "source": [
        "## 작업 2유형 데이터 분석, 분류 모델"
      ],
      "metadata": {
        "id": "h5KCHtPixn0c"
      }
    },
    {
      "cell_type": "markdown",
      "source": [
        "y_train : 고객 성별 데이터\n",
        "x_train, x_test : 고객 상품 구매 속성\n",
        "\n",
        "문제 \\\n",
        "성별 예측 모형 만들고 이를 평가용 데이터에 적용해 성별 예측값(남자일 확률) \\\n",
        "성능은 ROC-AUC로 "
      ],
      "metadata": {
        "id": "cP0O4DOzy_HS"
      }
    },
    {
      "cell_type": "code",
      "source": [
        "import pandas as pd\n",
        "x_train = pd.read_csv('/content/drive/MyDrive/bigData-main/x_train.csv', encoding = 'cp949')\n",
        "x_test = pd.read_csv('/content/drive/MyDrive/bigData-main/x_test.csv', encoding = 'cp949')\n",
        "y_train = pd.read_csv('/content/drive/MyDrive/bigData-main/y_train.csv', encoding = 'cp949')"
      ],
      "metadata": {
        "id": "Tr_XcDtI2Cua"
      },
      "execution_count": null,
      "outputs": []
    },
    {
      "cell_type": "code",
      "source": [
        "x_train.head()"
      ],
      "metadata": {
        "id": "upX4y8FH2Pni"
      },
      "execution_count": null,
      "outputs": []
    },
    {
      "cell_type": "code",
      "source": [
        "y_train.head()"
      ],
      "metadata": {
        "id": "BpU4SBPL2aJq"
      },
      "execution_count": null,
      "outputs": []
    },
    {
      "cell_type": "code",
      "source": [
        "print(x_train.shape)\n",
        "print(x_test.shape)\n",
        "print(y_train.shape)\n"
      ],
      "metadata": {
        "id": "kMD1U4kq2eVJ"
      },
      "execution_count": null,
      "outputs": []
    },
    {
      "cell_type": "code",
      "source": [
        "x_train.info()"
      ],
      "metadata": {
        "id": "wmHOSTLD29_z"
      },
      "execution_count": null,
      "outputs": []
    },
    {
      "cell_type": "code",
      "source": [
        "x_train.describe().T"
      ],
      "metadata": {
        "id": "fOuc5Dy_3FCi"
      },
      "execution_count": null,
      "outputs": []
    },
    {
      "cell_type": "markdown",
      "source": [
        "스케일링 필요"
      ],
      "metadata": {
        "id": "l-rwU-gd3GpK"
      }
    },
    {
      "cell_type": "code",
      "source": [
        "# 불필요컬럼 삭제\n",
        "x_test_cust_id = x_test['cust_id']"
      ],
      "metadata": {
        "id": "IVLuoGkvKghg"
      },
      "execution_count": null,
      "outputs": []
    },
    {
      "cell_type": "code",
      "source": [
        "x_train = x_train.drop(columns = 'cust_id')\n",
        "x_test = x_test.drop(columns = 'cust_id')\n",
        "y_train = y_train.drop(columns = 'cust_id')"
      ],
      "metadata": {
        "id": "T1kogGNnKoKh"
      },
      "execution_count": null,
      "outputs": []
    },
    {
      "cell_type": "code",
      "source": [
        ""
      ],
      "metadata": {
        "id": "E60Mal6_Kn7t"
      },
      "execution_count": null,
      "outputs": []
    },
    {
      "cell_type": "code",
      "source": [
        "# 환불금액 결측치 0으로\n",
        "x_train['환불금액'] = x_train['환불금액'].fillna(0)\n",
        "x_test['환불금액'] = x_test['환불금액'].fillna(0)"
      ],
      "metadata": {
        "id": "GhHv8q2d3fZy"
      },
      "execution_count": null,
      "outputs": []
    },
    {
      "cell_type": "code",
      "source": [
        "x_train['환불금액'].isnull().sum()"
      ],
      "metadata": {
        "id": "476-0BJy3q3o"
      },
      "execution_count": null,
      "outputs": []
    },
    {
      "cell_type": "code",
      "source": [
        "# 범주형 변수 인코딩\n",
        "x_train['주구매상품'].unique()"
      ],
      "metadata": {
        "id": "SfG4wZKf3uJH"
      },
      "execution_count": null,
      "outputs": []
    },
    {
      "cell_type": "code",
      "source": [
        "x_train['주구매지점'].unique()"
      ],
      "metadata": {
        "id": "GxTOQ2hs3zSD"
      },
      "execution_count": null,
      "outputs": []
    },
    {
      "cell_type": "code",
      "source": [
        "from sklearn.preprocessing import LabelEncoder\n",
        "\n",
        "encoder = LabelEncoder()"
      ],
      "metadata": {
        "id": "np3gr9tq33u-"
      },
      "execution_count": null,
      "outputs": []
    },
    {
      "cell_type": "code",
      "source": [
        "x_train['주구매상품'] = encoder.fit_transform(x_train['주구매상품'])\n",
        "\n",
        "print(x_train['주구매상품'].head(10))"
      ],
      "metadata": {
        "id": "aT311vqE8bGi"
      },
      "execution_count": null,
      "outputs": []
    },
    {
      "cell_type": "code",
      "source": [
        "print(encoder.classes_)"
      ],
      "metadata": {
        "id": "1PKlq_me8wfV"
      },
      "execution_count": null,
      "outputs": []
    },
    {
      "cell_type": "code",
      "source": [
        "x_test['주구매상품'] = encoder.fit_transform(x_test['주구매상품'])\n"
      ],
      "metadata": {
        "id": "I2e_Auuk80jV"
      },
      "execution_count": null,
      "outputs": []
    },
    {
      "cell_type": "code",
      "source": [
        "x_train['주구매지점'] = encoder.fit_transform(x_train['주구매지점'])\n",
        "\n",
        "print(x_train['주구매지점'].head(10))\n"
      ],
      "metadata": {
        "id": "J01GvUl_85aN"
      },
      "execution_count": null,
      "outputs": []
    },
    {
      "cell_type": "code",
      "source": [
        "encoder.classes_"
      ],
      "metadata": {
        "id": "vQ8MqbPM9B-5"
      },
      "execution_count": null,
      "outputs": []
    },
    {
      "cell_type": "code",
      "source": [
        "x_test['주구매지점'] = encoder.fit_transform(x_test['주구매지점'])\n"
      ],
      "metadata": {
        "id": "o0vQObja9FtT"
      },
      "execution_count": null,
      "outputs": []
    },
    {
      "cell_type": "code",
      "source": [
        "#파생변수 만들기, 0보다 크면1, 0과 같으면 0\n",
        "condition = x_train['환불금액'] > 0"
      ],
      "metadata": {
        "id": "x0Ezss-Y9MLp"
      },
      "execution_count": null,
      "outputs": []
    },
    {
      "cell_type": "code",
      "source": [
        "x_train.loc[condition, '환불금액_new'] = 1\n",
        "x_train.loc[~condition, '환불금액_new'] = 0\n"
      ],
      "metadata": {
        "id": "QkbfPYuS9UYs"
      },
      "execution_count": null,
      "outputs": []
    },
    {
      "cell_type": "code",
      "source": [
        "x_train[['환불금액', '환불금액_new']]"
      ],
      "metadata": {
        "id": "SzTNVMEW9bc5"
      },
      "execution_count": null,
      "outputs": []
    },
    {
      "cell_type": "code",
      "source": [
        "x_train = x_train.drop(columns = '환불금액')"
      ],
      "metadata": {
        "id": "s6NYMuij9plX"
      },
      "execution_count": null,
      "outputs": []
    },
    {
      "cell_type": "code",
      "source": [
        "x_train"
      ],
      "metadata": {
        "id": "5IYZWP6e9tgf"
      },
      "execution_count": null,
      "outputs": []
    },
    {
      "cell_type": "code",
      "source": [
        "x_test.loc[condition, '환불금액_new'] = 1\n",
        "x_test.loc[~condition, '환불금액_new'] = 0\n",
        "\n",
        "x_test = x_test.drop(columns = '환불금액')"
      ],
      "metadata": {
        "id": "s8IaMwX4DhVp"
      },
      "execution_count": null,
      "outputs": []
    },
    {
      "cell_type": "code",
      "source": [
        "x_train.describe().T"
      ],
      "metadata": {
        "id": "xcKUqCWd9ump"
      },
      "execution_count": null,
      "outputs": []
    },
    {
      "cell_type": "code",
      "source": [
        "from sklearn.preprocessing import StandardScaler\n",
        "scaler = StandardScaler()"
      ],
      "metadata": {
        "id": "6SpOQZTZCBNs"
      },
      "execution_count": null,
      "outputs": []
    },
    {
      "cell_type": "code",
      "source": [
        "x_train = pd.DataFrame(scaler.fit_transform(x_train), columns = x_train.columns)"
      ],
      "metadata": {
        "id": "5_LmsRqTCIkU"
      },
      "execution_count": null,
      "outputs": []
    },
    {
      "cell_type": "code",
      "source": [
        "x_train"
      ],
      "metadata": {
        "id": "UArGi_TlCP-C"
      },
      "execution_count": null,
      "outputs": []
    },
    {
      "cell_type": "code",
      "source": [
        "x_train.describe().T"
      ],
      "metadata": {
        "id": "C6C5p9KPCVIV"
      },
      "execution_count": null,
      "outputs": []
    },
    {
      "cell_type": "code",
      "source": [
        "x_test = pd.DataFrame(scaler.transform(x_test), columns = x_test.columns)"
      ],
      "metadata": {
        "id": "9zxWPJTzCf95"
      },
      "execution_count": null,
      "outputs": []
    },
    {
      "cell_type": "code",
      "source": [
        "# 상관관계 \n",
        "x_train[['총구매액', '최대구매액', '환불금액_new']].corr()\n"
      ],
      "metadata": {
        "id": "6Mca1ycnDWkV"
      },
      "execution_count": null,
      "outputs": []
    },
    {
      "cell_type": "code",
      "source": [
        "#0.6이상은 상관관계 있다고 판단\n",
        "#다중공선성 해소를 위해 하나는 삭제\n",
        "x_train = x_train.drop(columns = '최대구매액')\n",
        "x_test = x_test.drop(columns = '최대구매액')\n"
      ],
      "metadata": {
        "id": "M_Z2b1wfDZs0"
      },
      "execution_count": null,
      "outputs": []
    },
    {
      "cell_type": "code",
      "source": [
        "# 학습\n",
        "from sklearn.tree import DecisionTreeClassifier\n",
        "\n",
        "model = DecisionTreeClassifier()\n",
        "\n",
        "model.fit(x_train, y_train)\n",
        "\n",
        "y_test_predicted = model.predict(x_test)\n",
        "\n",
        "pd.DataFrame(y_test_predicted).head(3)"
      ],
      "metadata": {
        "id": "9WUuzdGBETqk"
      },
      "execution_count": null,
      "outputs": []
    },
    {
      "cell_type": "code",
      "source": [
        "y_test_predicted"
      ],
      "metadata": {
        "id": "U-IZh7YnH7Xm"
      },
      "execution_count": null,
      "outputs": []
    },
    {
      "cell_type": "code",
      "source": [
        "# 학습\n",
        "model = DecisionTreeClassifier(max_depth = 10, criterion = 'entropy', random_state = 10)\n",
        "\n",
        "model.fit(x_train, y_train)\n",
        "\n",
        "y_test_predicted = model.predict(x_test)\n",
        "\n",
        "pd.DataFrame(y_test_predicted).head(3)"
      ],
      "metadata": {
        "id": "tM7YLS-qIK5v"
      },
      "execution_count": null,
      "outputs": []
    },
    {
      "cell_type": "code",
      "source": [
        "y_test_proba = model.predict_proba(x_test)\n",
        "pd.DataFrame(y_test_proba).head()"
      ],
      "metadata": {
        "id": "EUwT1OlFIVh8"
      },
      "execution_count": null,
      "outputs": []
    },
    {
      "cell_type": "code",
      "source": [
        "result = pd.DataFrame(y_test_proba)[1]"
      ],
      "metadata": {
        "id": "TFHld3AuJvgm"
      },
      "execution_count": null,
      "outputs": []
    },
    {
      "cell_type": "code",
      "source": [
        "# 평가하기\n",
        "y_train_predicted = model.predict(x_train)\n",
        "\n",
        "from sklearn.metrics import roc_auc_score\n",
        "\n",
        "roc_auc_score(y_train, y_train_predicted)"
      ],
      "metadata": {
        "id": "7YP1JqyeLGIA"
      },
      "execution_count": null,
      "outputs": []
    },
    {
      "cell_type": "code",
      "source": [
        "# 결과\n",
        "\n",
        "pd.concat([x_test_cust_id, result], axis = 1)"
      ],
      "metadata": {
        "id": "WvnaCofKLYXE"
      },
      "execution_count": null,
      "outputs": []
    },
    {
      "cell_type": "code",
      "source": [
        "pd.concat([x_test_cust_id, result], axis = 1).rename(columns = {1 : 'gender'})"
      ],
      "metadata": {
        "id": "CJclKlmRLmsh"
      },
      "execution_count": null,
      "outputs": []
    },
    {
      "cell_type": "code",
      "source": [
        "final = pd.concat([x_test_cust_id, result], axis = 1).rename(columns = {1 : 'gender'})\n",
        "#final.to_csv()"
      ],
      "metadata": {
        "id": "fKFYHuRmLwBP"
      },
      "execution_count": null,
      "outputs": []
    },
    {
      "cell_type": "code",
      "source": [
        ""
      ],
      "metadata": {
        "id": "en76xWKnL2UK"
      },
      "execution_count": null,
      "outputs": []
    }
  ]
}